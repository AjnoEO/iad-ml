{
  "cells": [
    {
      "cell_type": "markdown",
      "id": "047674ee",
      "metadata": {
        "id": "047674ee"
      },
      "source": [
        "# Часть 1 Бустинг (5 баллов)"
      ]
    },
    {
      "cell_type": "markdown",
      "id": "d8461109",
      "metadata": {
        "id": "d8461109"
      },
      "source": [
        "В этой части будем предсказывать зарплату data scientist-ов в зависимости  от ряда факторов с помощью градиентного бустинга."
      ]
    },
    {
      "cell_type": "markdown",
      "id": "1651e8dd",
      "metadata": {
        "id": "1651e8dd"
      },
      "source": [
        "В датасете есть следующие признаки:\n",
        "\n",
        "\n",
        "\n",
        "* work_year: The number of years of work experience in the field of data science.\n",
        "\n",
        "* experience_level: The level of experience, such as Junior, Senior, or Lead.\n",
        "\n",
        "* employment_type: The type of employment, such as Full-time or Contract.\n",
        "\n",
        "* job_title: The specific job title or role, such as Data Analyst or Data Scientist.\n",
        "\n",
        "* salary: The salary amount for the given job.\n",
        "\n",
        "* salary_currency: The currency in which the salary is denoted.\n",
        "\n",
        "* salary_in_usd: The equivalent salary amount converted to US dollars (USD) for comparison purposes.\n",
        "\n",
        "* employee_residence: The country or region where the employee resides.\n",
        "\n",
        "* remote_ratio: The percentage of remote work offered in the job.\n",
        "\n",
        "* company_location: The location of the company or organization.\n",
        "\n",
        "* company_size: The company's size is categorized as Small, Medium, or Large."
      ]
    },
    {
      "cell_type": "code",
      "execution_count": 1,
      "id": "dbf7595c",
      "metadata": {
        "colab": {
          "base_uri": "https://localhost:8080/",
          "height": 330
        },
        "id": "dbf7595c",
        "outputId": "1b27c9f2-85d2-4971-a592-6b4aaba9f94a"
      },
      "outputs": [
        {
          "data": {
            "text/html": [
              "<div>\n",
              "<style scoped>\n",
              "    .dataframe tbody tr th:only-of-type {\n",
              "        vertical-align: middle;\n",
              "    }\n",
              "\n",
              "    .dataframe tbody tr th {\n",
              "        vertical-align: top;\n",
              "    }\n",
              "\n",
              "    .dataframe thead th {\n",
              "        text-align: right;\n",
              "    }\n",
              "</style>\n",
              "<table border=\"1\" class=\"dataframe\">\n",
              "  <thead>\n",
              "    <tr style=\"text-align: right;\">\n",
              "      <th></th>\n",
              "      <th>work_year</th>\n",
              "      <th>experience_level</th>\n",
              "      <th>employment_type</th>\n",
              "      <th>job_title</th>\n",
              "      <th>salary</th>\n",
              "      <th>salary_currency</th>\n",
              "      <th>salary_in_usd</th>\n",
              "      <th>employee_residence</th>\n",
              "      <th>remote_ratio</th>\n",
              "      <th>company_location</th>\n",
              "      <th>company_size</th>\n",
              "    </tr>\n",
              "  </thead>\n",
              "  <tbody>\n",
              "    <tr>\n",
              "      <th>0</th>\n",
              "      <td>2023</td>\n",
              "      <td>SE</td>\n",
              "      <td>FT</td>\n",
              "      <td>Principal Data Scientist</td>\n",
              "      <td>80000</td>\n",
              "      <td>EUR</td>\n",
              "      <td>85847</td>\n",
              "      <td>ES</td>\n",
              "      <td>100</td>\n",
              "      <td>ES</td>\n",
              "      <td>L</td>\n",
              "    </tr>\n",
              "    <tr>\n",
              "      <th>1</th>\n",
              "      <td>2023</td>\n",
              "      <td>MI</td>\n",
              "      <td>CT</td>\n",
              "      <td>ML Engineer</td>\n",
              "      <td>30000</td>\n",
              "      <td>USD</td>\n",
              "      <td>30000</td>\n",
              "      <td>US</td>\n",
              "      <td>100</td>\n",
              "      <td>US</td>\n",
              "      <td>S</td>\n",
              "    </tr>\n",
              "    <tr>\n",
              "      <th>2</th>\n",
              "      <td>2023</td>\n",
              "      <td>MI</td>\n",
              "      <td>CT</td>\n",
              "      <td>ML Engineer</td>\n",
              "      <td>25500</td>\n",
              "      <td>USD</td>\n",
              "      <td>25500</td>\n",
              "      <td>US</td>\n",
              "      <td>100</td>\n",
              "      <td>US</td>\n",
              "      <td>S</td>\n",
              "    </tr>\n",
              "    <tr>\n",
              "      <th>3</th>\n",
              "      <td>2023</td>\n",
              "      <td>SE</td>\n",
              "      <td>FT</td>\n",
              "      <td>Data Scientist</td>\n",
              "      <td>175000</td>\n",
              "      <td>USD</td>\n",
              "      <td>175000</td>\n",
              "      <td>CA</td>\n",
              "      <td>100</td>\n",
              "      <td>CA</td>\n",
              "      <td>M</td>\n",
              "    </tr>\n",
              "    <tr>\n",
              "      <th>4</th>\n",
              "      <td>2023</td>\n",
              "      <td>SE</td>\n",
              "      <td>FT</td>\n",
              "      <td>Data Scientist</td>\n",
              "      <td>120000</td>\n",
              "      <td>USD</td>\n",
              "      <td>120000</td>\n",
              "      <td>CA</td>\n",
              "      <td>100</td>\n",
              "      <td>CA</td>\n",
              "      <td>M</td>\n",
              "    </tr>\n",
              "  </tbody>\n",
              "</table>\n",
              "</div>"
            ],
            "text/plain": [
              "   work_year experience_level employment_type                 job_title  \\\n",
              "0       2023               SE              FT  Principal Data Scientist   \n",
              "1       2023               MI              CT               ML Engineer   \n",
              "2       2023               MI              CT               ML Engineer   \n",
              "3       2023               SE              FT            Data Scientist   \n",
              "4       2023               SE              FT            Data Scientist   \n",
              "\n",
              "   salary salary_currency  salary_in_usd employee_residence  remote_ratio  \\\n",
              "0   80000             EUR          85847                 ES           100   \n",
              "1   30000             USD          30000                 US           100   \n",
              "2   25500             USD          25500                 US           100   \n",
              "3  175000             USD         175000                 CA           100   \n",
              "4  120000             USD         120000                 CA           100   \n",
              "\n",
              "  company_location company_size  \n",
              "0               ES            L  \n",
              "1               US            S  \n",
              "2               US            S  \n",
              "3               CA            M  \n",
              "4               CA            M  "
            ]
          },
          "execution_count": 1,
          "metadata": {},
          "output_type": "execute_result"
        }
      ],
      "source": [
        "import pandas as pd\n",
        "\n",
        "df = pd.read_csv(\"ds_salaries.csv\")\n",
        "df.head()"
      ]
    },
    {
      "cell_type": "markdown",
      "id": "6696e77a",
      "metadata": {
        "id": "6696e77a"
      },
      "source": [
        "## Задание 1 (0.5 балла) Подготовка"
      ]
    },
    {
      "cell_type": "markdown",
      "id": "0cb13dc7",
      "metadata": {
        "id": "0cb13dc7"
      },
      "source": [
        "\n",
        "\n",
        "*   Разделите выборку на train, val, test (80%, 10%, 10%)\n",
        "*   Выдерите salary_in_usd в качестве таргета\n",
        "*   Найдите и удалите признак, из-за которого возможен лик в данных\n"
      ]
    },
    {
      "cell_type": "code",
      "execution_count": 2,
      "id": "HJNGYRCjYG8A",
      "metadata": {
        "id": "HJNGYRCjYG8A"
      },
      "outputs": [
        {
          "name": "stdout",
          "output_type": "stream",
          "text": [
            "(3004, 9) (375, 9) (376, 9)\n"
          ]
        }
      ],
      "source": [
        "from sklearn.model_selection import train_test_split\n",
        "\n",
        "_TARGET_COL = \"salary_in_usd\"\n",
        "X = df[df.columns[(df.columns != _TARGET_COL) & (df.columns != \"salary\")]] # Зарплаты соответствуют целевой переменной\n",
        "y = df[_TARGET_COL]\n",
        "_X_train, _X_test, y_train, y_test = train_test_split(X, y, train_size=0.8, random_state=239)\n",
        "_X_val, _X_test, y_val, y_test = train_test_split(_X_test, y_test, test_size=0.5, random_state=239)\n",
        "print(_X_train.shape, _X_val.shape, _X_test.shape)"
      ]
    },
    {
      "cell_type": "markdown",
      "id": "f63cb01a",
      "metadata": {
        "id": "f63cb01a"
      },
      "source": [
        "## Задание 2 (0.5 балла) Линейная модель"
      ]
    },
    {
      "cell_type": "markdown",
      "id": "647a5cad",
      "metadata": {
        "id": "647a5cad"
      },
      "source": [
        "\n",
        "*   Закодируйте категориальные  признаки с помощью OneHotEncoder\n",
        "*   Обучите модель линейной регрессии\n",
        "*   Оцените  качество через MAPE и RMSE\n"
      ]
    },
    {
      "cell_type": "code",
      "execution_count": null,
      "id": "DcfWqlvYk0ru",
      "metadata": {
        "id": "DcfWqlvYk0ru"
      },
      "outputs": [],
      "source": [
        "from sklearn.preprocessing import OneHotEncoder, StandardScaler\n",
        "\n",
        "categorical_features = X.select_dtypes(exclude=\"number\").columns\n",
        "\n",
        "encoder = OneHotEncoder(sparse_output=False, handle_unknown=\"ignore\")\n",
        "encoder.fit(_X_train[categorical_features])\n",
        "onehot_cols = encoder.get_feature_names_out()\n",
        "\n",
        "numeric_features = X.columns[~X.columns.isin(categorical_features)]\n",
        "\n",
        "scaler = StandardScaler()\n",
        "scaler.fit(_X_train[numeric_features])\n",
        "\n",
        "def prepare(df: pd.DataFrame):\n",
        "    df[numeric_features] = scaler.transform(df[numeric_features])\n",
        "    df = pd.concat([df, pd.DataFrame(encoder.transform(df[categorical_features]), index=df.index, columns=onehot_cols)], axis=1)\n",
        "    return df.drop(columns=categorical_features)\n",
        "\n",
        "X_train = prepare(_X_train)\n",
        "X_val = prepare(_X_val)\n",
        "X_test = prepare(_X_test)\n",
        "\n",
        "# y_scaler = StandardScaler()\n",
        "# y_train = pd.Series(y_scaler.fit_transform(pd.DataFrame(y_train))[:, 0])\n",
        "# y_val = pd.Series(y_scaler.transform(pd.DataFrame(y_val))[:, 0])\n",
        "# y_test = pd.Series(y_scaler.transform(pd.DataFrame(y_test))[:, 0])"
      ]
    },
    {
      "cell_type": "code",
      "execution_count": 4,
      "id": "d0163cae",
      "metadata": {},
      "outputs": [],
      "source": [
        "_X_big_train = pd.concat([_X_train, _X_val])\n",
        "X_big_train = pd.concat([X_train, X_val])\n",
        "y_big_train = pd.concat([y_train, y_val])"
      ]
    },
    {
      "cell_type": "code",
      "execution_count": 18,
      "id": "16d88f36",
      "metadata": {},
      "outputs": [
        {
          "name": "stdout",
          "output_type": "stream",
          "text": [
            "MAPE: 0.378\n",
            "RMSE: 2_106_151_773\n",
            "Скорость предсказания: 13_462_500 нс на 376 объектов (35805 нс/объект)\n"
          ]
        }
      ],
      "source": [
        "from sklearn.linear_model import LinearRegression\n",
        "from sklearn.metrics import mean_absolute_percentage_error, mean_squared_error\n",
        "from time import time_ns\n",
        "\n",
        "initial_model = LinearRegression()\n",
        "initial_model.fit(X_big_train, y_big_train)\n",
        "\n",
        "start = time_ns()\n",
        "y_pred = initial_model.predict(X_test)\n",
        "end = time_ns()\n",
        "pred_time = end-start\n",
        "print(f'MAPE: {mean_absolute_percentage_error(y_test, y_pred):.3f}')\n",
        "print(f'RMSE: {mean_squared_error(y_test, y_pred):_.0f}')\n",
        "print(f'Скорость предсказания: {pred_time:_} нс на {len(y_test)} объектов ({pred_time/len(y_test):.0f} нс/объект)')"
      ]
    },
    {
      "cell_type": "markdown",
      "id": "3578292c",
      "metadata": {
        "id": "3578292c"
      },
      "source": [
        "## Задание 3 (0.5 балла) XGboost"
      ]
    },
    {
      "cell_type": "markdown",
      "id": "3RJuwwoty9w1",
      "metadata": {
        "id": "3RJuwwoty9w1"
      },
      "source": [
        "Начнем с библиотеки xgboost.\n",
        "\n",
        "Обучите модель `XGBRegressor` на тех же данных, что линейную модель, подобрав оптимальные гиперпараметры (`max_depth, learning_rate, n_estimators, gamma`, etc.) по валидационной выборке. Оцените качество итоговой модели (MAPE, RMSE), скорость обучения и скорость предсказания."
      ]
    },
    {
      "cell_type": "code",
      "execution_count": 6,
      "id": "620135ae",
      "metadata": {},
      "outputs": [
        {
          "name": "stderr",
          "output_type": "stream",
          "text": [
            "C:\\Users\\boyko\\AppData\\Local\\Packages\\PythonSoftwareFoundation.Python.3.11_qbz5n2kfra8p0\\LocalCache\\local-packages\\Python311\\site-packages\\tqdm\\auto.py:21: TqdmWarning: IProgress not found. Please update jupyter and ipywidgets. See https://ipywidgets.readthedocs.io/en/stable/user_install.html\n",
            "  from .autonotebook import tqdm as notebook_tqdm\n"
          ]
        }
      ],
      "source": [
        "import itertools\n",
        "import math\n",
        "from sklearn.base import BaseEstimator\n",
        "from time import time\n",
        "from tqdm.contrib import itertools as tqdmit\n",
        "\n",
        "def find_best_combo(\n",
        "        Estimator: type[BaseEstimator], params: dict[str, list], tqdm: bool = True, \n",
        "        train_args: tuple[pd.DataFrame, pd.Series] | None = None, val: pd.DataFrame | None = None, **ekw\n",
        "    ) -> tuple[tuple[float], float, float]:\n",
        "    \"\"\"\n",
        "    Провести валидацию\n",
        "    \"\"\"\n",
        "    best_combo: tuple[float] = None\n",
        "    best_mse = None\n",
        "    if train_args is None: train_args = X_train, y_train\n",
        "    if val is None: val = X_val\n",
        "    iterator = tqdmit.product(*params.values()) if tqdm else itertools.product(*params.values())\n",
        "    start = time()\n",
        "    for param_combo in iterator:\n",
        "        val_model = Estimator(**dict(zip(params.keys(), param_combo)), **ekw)\n",
        "        val_model.fit(*train_args)\n",
        "        mse = mean_squared_error(y_val, val_model.predict(val))\n",
        "        if best_mse is None or mse < best_mse:\n",
        "            best_mse = mse\n",
        "            best_combo = param_combo\n",
        "    end = time()\n",
        "    return best_combo, best_mse, end-start\n",
        "\n",
        "def print_best_combo(params: dict[str, list], combo: tuple[float], mse: float):\n",
        "    print(\"Лучший набор параметров:\", *[f\"- {k} = {v}\" for k, v in zip(params, combo)], f\"MSE: {mse:_.0f}\", sep=\"\\n\")"
      ]
    },
    {
      "cell_type": "code",
      "execution_count": 7,
      "id": "qafqCyE6zGpE",
      "metadata": {
        "id": "qafqCyE6zGpE"
      },
      "outputs": [
        {
          "name": "stderr",
          "output_type": "stream",
          "text": [
            "100%|██████████| 256/256 [00:43<00:00,  5.85it/s]"
          ]
        },
        {
          "name": "stdout",
          "output_type": "stream",
          "text": [
            "Лучший набор параметров:\n",
            "- max_depth = 1\n",
            "- learning_rate = 1\n",
            "- n_estimators = 100\n",
            "- gamma = 0.0001\n",
            "MSE: 2_398_984_960\n"
          ]
        },
        {
          "name": "stderr",
          "output_type": "stream",
          "text": [
            "\n"
          ]
        }
      ],
      "source": [
        "from xgboost.sklearn import XGBRegressor\n",
        "\n",
        "params = {\n",
        "    'max_depth' : [1, 2, 3, 5],\n",
        "    'learning_rate' : [0.1, 0.5, 1, 2],\n",
        "    'n_estimators' : [20, 50, 100, 150],\n",
        "    'gamma' : [0.0001, 0.001, 0.01, 0.1]\n",
        "}\n",
        "iterations = math.prod(map(len, params.values()))\n",
        "\n",
        "best_xgbr_combo, best_mse, val_time = find_best_combo(XGBRegressor, params)\n",
        "\n",
        "print_best_combo(params, best_xgbr_combo, best_mse)"
      ]
    },
    {
      "cell_type": "code",
      "execution_count": 8,
      "id": "59d38393",
      "metadata": {},
      "outputs": [],
      "source": [
        "from time import time_ns\n",
        "\n",
        "def final_model(\n",
        "        Estimator: type[BaseEstimator], params: dict[str, list], combo: tuple[float],\n",
        "        train_args: tuple[pd.DataFrame, pd.Series] | None = None, test: pd.DataFrame | None = None, **ekw\n",
        "    ):\n",
        "    if train_args is None: train_args = X_big_train, y_big_train\n",
        "    if test is None: test = X_test\n",
        "    model = Estimator(**dict(zip(params, combo)), **ekw)\n",
        "    model.fit(*train_args)\n",
        "    start = time_ns()\n",
        "    y_pred = model.predict(test)\n",
        "    end = time_ns()\n",
        "    return model, y_pred, end-start"
      ]
    },
    {
      "cell_type": "code",
      "execution_count": 9,
      "id": "hvQr6Sw3VpbW",
      "metadata": {
        "id": "hvQr6Sw3VpbW"
      },
      "outputs": [
        {
          "name": "stdout",
          "output_type": "stream",
          "text": [
            "MAPE: 0.362\n",
            "RMSE: 1_946_176_256\n",
            "Скорость валидации: 43.73 с на 256 итераций (0.17 с/итер.)\n",
            "Скорость предсказания: 17_025_400 нс на 376 объектов (45280 нс/объект)\n"
          ]
        }
      ],
      "source": [
        "xgbr_model, y_pred, pred_time = final_model(XGBRegressor, params, best_xgbr_combo)\n",
        "\n",
        "print(f'MAPE: {mean_absolute_percentage_error(y_test, y_pred):.3f}')\n",
        "print(f'RMSE: {mean_squared_error(y_test, y_pred):_.0f}')\n",
        "print(f'Скорость валидации: {val_time:_.2f} с на {iterations} итераций ({val_time/iterations:.2f} с/итер.)')\n",
        "print(f'Скорость предсказания: {pred_time:_} нс на {len(y_test)} объектов ({pred_time/len(y_test):.0f} нс/объект)')"
      ]
    },
    {
      "cell_type": "markdown",
      "id": "RmWp9wxu318i",
      "metadata": {
        "id": "RmWp9wxu318i"
      },
      "source": [
        "## Задание 4 (1 балл) CatBoost"
      ]
    },
    {
      "cell_type": "markdown",
      "id": "bDWqieZk3-rv",
      "metadata": {
        "id": "bDWqieZk3-rv"
      },
      "source": [
        "Теперь библиотека CatBoost.\n",
        "\n",
        "Обучите модель `CatBoostRegressor`, подобрав оптимальные гиперпараметры (`depth, learning_rate, iterations`, etc.) по валидационной выборке. Оцените качество итоговой модели (MAPE, RMSE), скорость обучения и скорость предсказания."
      ]
    },
    {
      "cell_type": "code",
      "execution_count": 10,
      "id": "mbhrOOPJ4X9C",
      "metadata": {
        "id": "mbhrOOPJ4X9C"
      },
      "outputs": [
        {
          "name": "stderr",
          "output_type": "stream",
          "text": [
            "100%|██████████| 64/64 [00:24<00:00,  2.57it/s]"
          ]
        },
        {
          "name": "stdout",
          "output_type": "stream",
          "text": [
            "Лучший набор параметров:\n",
            "- depth = 3\n",
            "- learning_rate = 0.2\n",
            "- iterations = 300\n",
            "MSE: 2_359_564_549\n"
          ]
        },
        {
          "name": "stderr",
          "output_type": "stream",
          "text": [
            "\n"
          ]
        }
      ],
      "source": [
        "from catboost import CatBoostRegressor\n",
        "\n",
        "params = {\n",
        "    'depth' : [1, 2, 3, 5],\n",
        "    'learning_rate' : [0.05, 0.1, 0.2, 0.5],\n",
        "    'iterations' : [100, 200, 300, 400],\n",
        "}\n",
        "iterations = math.prod(map(len, params.values()))\n",
        "\n",
        "best_cbr_combo, best_mse, val_time = find_best_combo(CatBoostRegressor, params, verbose=False)\n",
        "\n",
        "print_best_combo(params, best_cbr_combo, best_mse)"
      ]
    },
    {
      "cell_type": "code",
      "execution_count": 11,
      "id": "Ztdt39FZVruJ",
      "metadata": {
        "id": "Ztdt39FZVruJ"
      },
      "outputs": [
        {
          "name": "stdout",
          "output_type": "stream",
          "text": [
            "MAPE: 0.385\n",
            "RMSE: 1_978_987_307\n",
            "Скорость валидации: 24.91 с на 64 итераций (0.39 с/итер.)\n",
            "Скорость предсказания: 2_492_500 нс на 376 объектов (6629 нс/объект)\n"
          ]
        }
      ],
      "source": [
        "cbr_model, y_pred, pred_time = final_model(CatBoostRegressor, params, best_cbr_combo, verbose=False)\n",
        "\n",
        "print(f'MAPE: {mean_absolute_percentage_error(y_test, y_pred):.3f}')\n",
        "print(f'RMSE: {mean_squared_error(y_test, y_pred):_.0f}')\n",
        "print(f'Скорость валидации: {val_time:_.2f} с на {iterations} итераций ({val_time/iterations:.2f} с/итер.)')\n",
        "print(f'Скорость предсказания: {pred_time:_} нс на {len(y_test)} объектов ({pred_time/len(y_test):.0f} нс/объект)')"
      ]
    },
    {
      "cell_type": "markdown",
      "id": "ruUNeGOk4lho",
      "metadata": {
        "id": "ruUNeGOk4lho"
      },
      "source": [
        "Для применения catboost моделей не обязательно сначала кодировать категориальные признаки, модель может кодировать их сама. Обучите catboost с подбором оптимальных гиперпараметров снова, используя pool для передачи данных в модель с указанием какие признаки категориальные, а какие нет с помощью параметра cat_features. Оцените качество и время. Стало ли лучше?"
      ]
    },
    {
      "cell_type": "code",
      "execution_count": 12,
      "id": "5vQr1f9P6cQ5",
      "metadata": {
        "id": "5vQr1f9P6cQ5"
      },
      "outputs": [],
      "source": [
        "from catboost import Pool\n",
        "\n",
        "X_train_pool = Pool(_X_train, y_train, cat_features=categorical_features.to_list())\n",
        "X_big_train_pool = Pool(_X_big_train, y_big_train, cat_features=categorical_features.to_list())"
      ]
    },
    {
      "cell_type": "code",
      "execution_count": 13,
      "id": "3ef574e6",
      "metadata": {},
      "outputs": [
        {
          "name": "stderr",
          "output_type": "stream",
          "text": [
            "100%|██████████| 64/64 [08:04<00:00,  7.57s/it]"
          ]
        },
        {
          "name": "stdout",
          "output_type": "stream",
          "text": [
            "Лучший набор параметров:\n",
            "- depth = 2\n",
            "- learning_rate = 0.2\n",
            "- iterations = 100\n",
            "MSE: 2_459_502_862\n"
          ]
        },
        {
          "name": "stderr",
          "output_type": "stream",
          "text": [
            "\n"
          ]
        }
      ],
      "source": [
        "best_pool_cbr_combo, best_mse, val_time = find_best_combo(CatBoostRegressor, params, train_args=[X_train_pool], val=_X_val, verbose=False)\n",
        "\n",
        "print_best_combo(params, best_pool_cbr_combo, best_mse)"
      ]
    },
    {
      "cell_type": "code",
      "execution_count": 14,
      "id": "71222bc7",
      "metadata": {},
      "outputs": [
        {
          "name": "stdout",
          "output_type": "stream",
          "text": [
            "MAPE: 0.330\n",
            "RMSE: 1_904_560_503\n",
            "Скорость валидации: 484.31 с на 64 итераций (7.57 с/итер.)\n",
            "Скорость предсказания: 6_191_700 нс на 376 объектов (16467 нс/объект)\n"
          ]
        }
      ],
      "source": [
        "pool_cbr_model, y_pred, pred_time = final_model(\n",
        "    CatBoostRegressor, params, best_cbr_combo,\n",
        "    train_args=[X_big_train_pool], test=_X_test, verbose=False\n",
        ")\n",
        "\n",
        "print(f'MAPE: {mean_absolute_percentage_error(y_test, y_pred):.3f}')\n",
        "print(f'RMSE: {mean_squared_error(y_test, y_pred):_.0f}')\n",
        "print(f'Скорость валидации: {val_time:_.2f} с на {iterations} итераций ({val_time/iterations:.2f} с/итер.)')\n",
        "print(f'Скорость предсказания: {pred_time:_} нс на {len(y_test)} объектов ({pred_time/len(y_test):.0f} нс/объект)')"
      ]
    },
    {
      "cell_type": "markdown",
      "id": "eA0djixU7L8c",
      "metadata": {
        "id": "eA0djixU7L8c"
      },
      "source": [
        "**Ответ:**\n",
        "> Качество улучшилось, но времени потребовалось в 13 раз больше..."
      ]
    },
    {
      "cell_type": "markdown",
      "id": "a881ad9d",
      "metadata": {
        "id": "a881ad9d"
      },
      "source": [
        "## Задание 5 (0.5 балла) LightGBM"
      ]
    },
    {
      "cell_type": "markdown",
      "id": "a35f87a6",
      "metadata": {
        "id": "a35f87a6"
      },
      "source": [
        "И наконец библиотека LightGBM - используйте `LGBMRegressor`, снова подберите гиперпараметры, оцените качество и скорость.\n"
      ]
    },
    {
      "cell_type": "code",
      "execution_count": 17,
      "id": "pMxY8Owp78Ow",
      "metadata": {
        "id": "pMxY8Owp78Ow"
      },
      "outputs": [
        {
          "name": "stderr",
          "output_type": "stream",
          "text": [
            "100%|██████████| 64/64 [00:04<00:00, 14.24it/s]"
          ]
        },
        {
          "name": "stdout",
          "output_type": "stream",
          "text": [
            "Лучший набор параметров:\n",
            "- max_depth = 1\n",
            "- learning_rate = 0.2\n",
            "- n_estimators = 400\n",
            "MSE: 2_508_843_377\n"
          ]
        },
        {
          "name": "stderr",
          "output_type": "stream",
          "text": [
            "\n"
          ]
        }
      ],
      "source": [
        "from lightgbm import LGBMRegressor\n",
        "\n",
        "params = {\n",
        "    'max_depth' : [1, 2, 3, 5],\n",
        "    'learning_rate' : [0.05, 0.1, 0.2, 0.5],\n",
        "    'n_estimators' : [100, 200, 300, 400],\n",
        "}\n",
        "iterations = math.prod(map(len, params.values()))\n",
        "\n",
        "best_lgbmr_combo, best_mse, val_time = find_best_combo(LGBMRegressor, params, verbose=-1)\n",
        "\n",
        "print_best_combo(params, best_lgbmr_combo, best_mse)"
      ]
    },
    {
      "cell_type": "code",
      "execution_count": 16,
      "id": "M2-WvfIrV556",
      "metadata": {
        "id": "M2-WvfIrV556"
      },
      "outputs": [
        {
          "name": "stdout",
          "output_type": "stream",
          "text": [
            "MAPE: 0.339\n",
            "RMSE: 1_980_672_216\n",
            "Скорость валидации: 5.05 с на 64 итераций (0.08 с/итер.)\n",
            "Скорость предсказания: 2_913_900 нс на 376 объектов (7750 нс/объект)\n"
          ]
        }
      ],
      "source": [
        "lgbmr_model, y_pred, pred_time = final_model(LGBMRegressor, params, best_lgbmr_combo)\n",
        "\n",
        "print(f'MAPE: {mean_absolute_percentage_error(y_test, y_pred):.3f}')\n",
        "print(f'RMSE: {mean_squared_error(y_test, y_pred):_.0f}')\n",
        "print(f'Скорость валидации: {val_time:_.2f} с на {iterations} итераций ({val_time/iterations:.2f} с/итер.)')\n",
        "print(f'Скорость предсказания: {pred_time:_} нс на {len(y_test)} объектов ({pred_time/len(y_test):.0f} нс/объект)')"
      ]
    },
    {
      "cell_type": "markdown",
      "id": "7c56d873",
      "metadata": {
        "id": "7c56d873"
      },
      "source": [
        "## Задание 6 (2 балла) Сравнение и выводы"
      ]
    },
    {
      "cell_type": "markdown",
      "id": "3a2c1148",
      "metadata": {
        "id": "3a2c1148"
      },
      "source": [
        "Сравните модели бустинга и сделайте про них выводы, какая из моделей показала лучший/худший результат по качеству, скорости обучения и скорости предсказания? Как отличаются гиперпараметры для разных моделей?"
      ]
    },
    {
      "cell_type": "markdown",
      "id": "gzelUdAl-V9u",
      "metadata": {
        "id": "gzelUdAl-V9u"
      },
      "source": [
        "**Ответ:**\n",
        "МОДЕЛЬ            | MAPE  | RMSE                | *v* обуч.<br>*(с/ит.)* | *v* предск.<br>*(мкс/об.)* | `depth` | `rate`  | `estimators`\n",
        ":----------------:|-------|---------------------|------------------------|----------------------------|---------|---------|----------------\n",
        "*Без бустинга*    | 0.378 | 2.11x10<sup>9</sup> | &mdash;                | 36                         | &mdash; | &mdash; | &mdash;\n",
        "**XGBoost**       | 0.362 | 1.95x10<sup>9</sup> | 0.17                   | 45                         | 1       | 1       | 100\n",
        "**CatBoost**      | 0.385 | 1.98x10<sup>9</sup> | 0.39                   | 7                          | 3       | 0.2     | 300\n",
        "**CatBoost**+Pool | 0.33  | 1.9x10<sup>9</sup>  | 7.57                   | 16                         | 2       | 0.2     | 100\n",
        "**LightGBM**      | 0.339 | 1.98x10<sup>9</sup> | 0.08                   | 8                          | 1       | 0.2     | 400\n",
        "\n",
        "Все модели бустинга уменьшают RMSE на 5-10% по сравнению с простой линейной моделью. Самая низкая ошибка по обоим критериям достигается у **CatBoost** с использованием `Pool`, однако подбор гиперпараметров идёт очень медленно. **LightGBM** учится очень быстро и тоже достигает довольно низкой MAPE. У **XGBoost** чуть ниже RMSE, и он тоже обучается тоже довольно быстро, но он предсказывает дольше всех. Быстрее всех предсказывает **CatBoost** без `Pool`, но у него ужасное по сравнению с остальными MAPE. Вообще-то меня удивляет, насколько разительно отличаются **CatBoost** с и без `Pool`, вроде как они должны по сути делать одно и то же..."
      ]
    },
    {
      "cell_type": "markdown",
      "id": "fokm4x1WmxQr",
      "metadata": {
        "id": "fokm4x1WmxQr"
      },
      "source": [
        "# Часть 2 Кластеризация (5 баллов)"
      ]
    },
    {
      "cell_type": "markdown",
      "id": "UZBpHMoNm1Sa",
      "metadata": {
        "id": "UZBpHMoNm1Sa"
      },
      "source": [
        "Будем работать с данными о том, каких исполнителей слушают пользователи музыкального сервиса.\n",
        "\n",
        "Каждая строка таблицы - информация об одном пользователе. Каждый столбец - это исполнитель (The Beatles, Radiohead, etc.)\n",
        "\n",
        "Для каждой пары (пользователь, исполнитель) в таблице стоит число - доля прослушивания этого исполнителя этим пользователем.\n"
      ]
    },
    {
      "cell_type": "code",
      "execution_count": null,
      "id": "nGa-xYikoogL",
      "metadata": {
        "colab": {
          "base_uri": "https://localhost:8080/",
          "height": 290
        },
        "id": "nGa-xYikoogL",
        "outputId": "78cf46ec-1aae-4cb9-a457-5a7a47a16248"
      },
      "outputs": [],
      "source": [
        "import pandas as pd\n",
        "ratings = pd.read_excel(\"https://github.com/evgpat/edu_stepik_rec_sys/blob/main/datasets/sample_matrix.xlsx?raw=true\", engine='openpyxl')\n",
        "ratings.head()"
      ]
    },
    {
      "cell_type": "markdown",
      "id": "sGeCPjTAoxWs",
      "metadata": {
        "id": "sGeCPjTAoxWs"
      },
      "source": [
        "Будем строить кластеризацию исполнителей: если двух исполнителей слушало много людей примерно одинаковую долю своего времени (то есть векторы близки в пространстве), то, возможно исполнители похожи. Эта информация может быть полезна при построении рекомендательных систем."
      ]
    },
    {
      "cell_type": "markdown",
      "id": "R37mE-R2_3Wj",
      "metadata": {
        "id": "R37mE-R2_3Wj"
      },
      "source": [
        "## Задание 1 (0.5 балла) Подготовка"
      ]
    },
    {
      "cell_type": "markdown",
      "id": "orn7K6q8plA5",
      "metadata": {
        "id": "orn7K6q8plA5"
      },
      "source": [
        "Транспонируем матрицу ratings, чтобы по строкам стояли исполнители."
      ]
    },
    {
      "cell_type": "code",
      "execution_count": null,
      "id": "KU6ljPlCpiwH",
      "metadata": {
        "id": "KU6ljPlCpiwH"
      },
      "outputs": [],
      "source": [
        "# -- YOUR CODE HERE --"
      ]
    },
    {
      "cell_type": "markdown",
      "id": "WEKrlEhMpkhF",
      "metadata": {
        "id": "WEKrlEhMpkhF"
      },
      "source": [
        "Выкиньте строку под названием `user`."
      ]
    },
    {
      "cell_type": "code",
      "execution_count": null,
      "id": "yAaV1q9TpuMh",
      "metadata": {
        "id": "yAaV1q9TpuMh"
      },
      "outputs": [],
      "source": [
        "# -- YOUR CODE HERE --"
      ]
    },
    {
      "cell_type": "markdown",
      "id": "Z823IqqPpv_s",
      "metadata": {
        "id": "Z823IqqPpv_s"
      },
      "source": [
        "В таблице много пропусков, так как пользователи слушают не всех-всех исполнителей, чья музыка представлена в сервисе, а некоторое подмножество (обычно около 30 исполнителей)\n",
        "\n",
        "\n",
        "Доля исполнителя в музыке, прослушанной  пользователем, равна 0, если пользователь никогда не слушал музыку данного музыканта, поэтому заполните пропуски нулями.\n",
        "\n"
      ]
    },
    {
      "cell_type": "code",
      "execution_count": null,
      "id": "XRdHzXJUsOeS",
      "metadata": {
        "colab": {
          "base_uri": "https://localhost:8080/",
          "height": 110
        },
        "id": "XRdHzXJUsOeS",
        "outputId": "499ea6da-ce25-4a04-8827-79306a3c39b2"
      },
      "outputs": [],
      "source": [
        "# -- YOUR CODE HERE --\n",
        "ratings.sample()"
      ]
    },
    {
      "cell_type": "markdown",
      "id": "0_1D0JnmAAjL",
      "metadata": {
        "id": "0_1D0JnmAAjL"
      },
      "source": [
        "## Задание 2 (0.5 балла) Первая кластеризация"
      ]
    },
    {
      "cell_type": "markdown",
      "id": "ARuDv5grstBl",
      "metadata": {
        "id": "ARuDv5grstBl"
      },
      "source": [
        "Примените KMeans с 5ю кластерами, сохраните полученные лейблы"
      ]
    },
    {
      "cell_type": "code",
      "execution_count": null,
      "id": "r2HxwIN5ssoO",
      "metadata": {
        "id": "r2HxwIN5ssoO"
      },
      "outputs": [],
      "source": [
        "from sklearn.cluster import KMeans\n",
        "\n",
        "# -- YOUR CODE HERE --"
      ]
    },
    {
      "cell_type": "markdown",
      "id": "aoWre3460SVi",
      "metadata": {
        "id": "aoWre3460SVi"
      },
      "source": [
        "Выведите размеры кластеров. Полезной ли получилась кластеризация? Почему KMeans может выдать такой результат?"
      ]
    },
    {
      "cell_type": "code",
      "execution_count": null,
      "id": "zsGGw7ha1OhP",
      "metadata": {
        "id": "zsGGw7ha1OhP"
      },
      "outputs": [],
      "source": [
        "# -- YOUR CODE HERE --"
      ]
    },
    {
      "cell_type": "markdown",
      "id": "lCcSpb2o11nZ",
      "metadata": {
        "id": "lCcSpb2o11nZ"
      },
      "source": [
        "**Ответ:** # -- YOUR ANSWER HERE --"
      ]
    },
    {
      "cell_type": "markdown",
      "id": "HDLIxdWBAMql",
      "metadata": {
        "id": "HDLIxdWBAMql"
      },
      "source": [
        "## Задание 3 (0.5 балла) Объяснение результатов"
      ]
    },
    {
      "cell_type": "markdown",
      "id": "Z0LPwxlK6PX3",
      "metadata": {
        "id": "Z0LPwxlK6PX3"
      },
      "source": [
        "При кластеризации получилось $\\geq 1$ кластера размера 1. Выведите исполнителей, которые составляют такие кластеры. Среди них должна быть группа The Beatles."
      ]
    },
    {
      "cell_type": "code",
      "execution_count": null,
      "id": "GpopP65iUXiJ",
      "metadata": {
        "id": "GpopP65iUXiJ"
      },
      "outputs": [],
      "source": [
        "# -- YOUR CODE HERE --"
      ]
    },
    {
      "cell_type": "markdown",
      "id": "brfvihta6yyG",
      "metadata": {
        "id": "brfvihta6yyG"
      },
      "source": [
        "Изучите данные, почему именно The Beatles выделяется?\n",
        "\n",
        "Подсказка: посмотрите на долю пользователей, которые слушают каждого исполнителя, среднюю долю прослушивания."
      ]
    },
    {
      "cell_type": "code",
      "execution_count": null,
      "id": "xnK6DL-aUdPi",
      "metadata": {
        "id": "xnK6DL-aUdPi"
      },
      "outputs": [],
      "source": [
        "# -- YOUR CODE HERE --"
      ]
    },
    {
      "cell_type": "markdown",
      "id": "QzYYFir870jG",
      "metadata": {
        "id": "QzYYFir870jG"
      },
      "source": [
        "**Ответ:** # -- YOUR ANSWER HERE --"
      ]
    },
    {
      "cell_type": "markdown",
      "id": "faW2kZFjAS9X",
      "metadata": {
        "id": "faW2kZFjAS9X"
      },
      "source": [
        "## Задание 4 (0.5 балла) Улучшение кластеризации"
      ]
    },
    {
      "cell_type": "markdown",
      "id": "Yzz3BbBw9KKt",
      "metadata": {
        "id": "Yzz3BbBw9KKt"
      },
      "source": [
        "Попытаемся избавиться от этой проблемы: нормализуйте данные при помощи `normalize`."
      ]
    },
    {
      "cell_type": "code",
      "execution_count": null,
      "id": "zg_crbGI9RNG",
      "metadata": {
        "id": "zg_crbGI9RNG"
      },
      "outputs": [],
      "source": [
        "from sklearn.preprocessing import normalize\n",
        "\n",
        "# -- YOUR CODE HERE --"
      ]
    },
    {
      "cell_type": "markdown",
      "id": "vFlwI4ec-SuY",
      "metadata": {
        "id": "vFlwI4ec-SuY"
      },
      "source": [
        "Примените KMeans с 5ю кластерами на преобразованной матрице, посмотрите на их размеры. Стало ли лучше? Может ли кластеризация быть полезной теперь?"
      ]
    },
    {
      "cell_type": "code",
      "execution_count": null,
      "id": "6ic3WvMdUfwb",
      "metadata": {
        "id": "6ic3WvMdUfwb"
      },
      "outputs": [],
      "source": [
        "# -- YOUR CODE HERE --"
      ]
    },
    {
      "cell_type": "markdown",
      "id": "Xj9fyDKd-bzk",
      "metadata": {
        "id": "Xj9fyDKd-bzk"
      },
      "source": [
        "**Ответ** # -- YOUR ANSWER HERE --"
      ]
    },
    {
      "cell_type": "markdown",
      "id": "zFsXACPxAhyv",
      "metadata": {
        "id": "zFsXACPxAhyv"
      },
      "source": [
        "## Задание 5 (1 балл) Центроиды"
      ]
    },
    {
      "cell_type": "markdown",
      "id": "qG5cISdzu7Jh",
      "metadata": {
        "id": "qG5cISdzu7Jh"
      },
      "source": [
        "Выведите для каждого кластера названия топ-10 исполнителей, ближайших к центроиду по косинусной мере. Проинтерпретируйте результат. Что можно сказать о смысле кластеров?"
      ]
    },
    {
      "cell_type": "code",
      "execution_count": null,
      "id": "Q3gI8OlKuCG6",
      "metadata": {
        "id": "Q3gI8OlKuCG6"
      },
      "outputs": [],
      "source": [
        "from scipy.spatial.distance import cosine\n",
        "\n",
        "\n",
        "centroids = km.cluster_centers_\n",
        "\n",
        "# -- YOUR CODE HERE --"
      ]
    },
    {
      "cell_type": "markdown",
      "id": "GwioYtvAxqxT",
      "metadata": {
        "id": "GwioYtvAxqxT"
      },
      "source": [
        "**Ответ:** # -- YOUR ANSWER HERE --"
      ]
    },
    {
      "cell_type": "markdown",
      "id": "TkBh9Dk2C_el",
      "metadata": {
        "id": "TkBh9Dk2C_el"
      },
      "source": [
        "## Задание 6 (1 балл) Визуализация"
      ]
    },
    {
      "cell_type": "markdown",
      "id": "GzP-OoAZDony",
      "metadata": {
        "id": "GzP-OoAZDony"
      },
      "source": [
        "Хотелось бы как-то визуализировать полученную кластеризацию. Постройте точечные графики `plt.scatter` для нескольких пар признаков исполнителей, покрасив точки в цвета кластеров. Почему визуализации получились такими? Хорошо ли они отражают разделение на кластеры? Почему?"
      ]
    },
    {
      "cell_type": "code",
      "execution_count": null,
      "id": "HyVqnEQ3DWgm",
      "metadata": {
        "id": "HyVqnEQ3DWgm"
      },
      "outputs": [],
      "source": [
        "import matplotlib.pyplot as plt\n",
        "\n",
        "# -- YOUR CODE HERE --"
      ]
    },
    {
      "cell_type": "markdown",
      "id": "O5t7YabAFPe4",
      "metadata": {
        "id": "O5t7YabAFPe4"
      },
      "source": [
        "**Ответ:** # -- YOUR ANSWER HERE --"
      ]
    },
    {
      "cell_type": "markdown",
      "id": "ZuPjFHu4GuHK",
      "metadata": {
        "id": "ZuPjFHu4GuHK"
      },
      "source": [
        "Для визуализации данных высокой размерности существует метод t-SNE (стохастическое вложение соседей с t-распределением). Данный метод является нелинейным методом снижения размерности: каждый объект высокой размерности будет моделироваться объектов более низкой (например, 2) размерности таким образом, чтобы похожие объекты моделировались близкими, непохожие - далекими с большой вероятностью.\n",
        "\n",
        "Примените `TSNE` из библиотеки `sklearn` и визуализируйте полученные объекты, покрасив их в цвета их кластеров"
      ]
    },
    {
      "cell_type": "code",
      "execution_count": null,
      "id": "CVNPXKvcH7uV",
      "metadata": {
        "id": "CVNPXKvcH7uV"
      },
      "outputs": [],
      "source": [
        "from sklearn.manifold import TSNE\n",
        "\n",
        "# -- YOUR CODE HERE --"
      ]
    },
    {
      "cell_type": "markdown",
      "id": "Mi1frYgFJCrT",
      "metadata": {
        "id": "Mi1frYgFJCrT"
      },
      "source": [
        "## Задание 7 (1 балл) Подбор гиперпараметров"
      ]
    },
    {
      "cell_type": "markdown",
      "id": "7UKDZt-bAokD",
      "metadata": {
        "id": "7UKDZt-bAokD"
      },
      "source": [
        "Подберите оптимальное количество кластеров (максимум 100 кластеров) с использованием индекса Силуэта. Зафиксируйте `random_state=42`"
      ]
    },
    {
      "cell_type": "code",
      "execution_count": null,
      "id": "S4CxV_XJAy0A",
      "metadata": {
        "id": "S4CxV_XJAy0A"
      },
      "outputs": [],
      "source": [
        "from sklearn.metrics import silhouette_score\n",
        "\n",
        "# -- YOUR CODE HERE --"
      ]
    },
    {
      "cell_type": "markdown",
      "id": "J81KdOFtJORV",
      "metadata": {
        "id": "J81KdOFtJORV"
      },
      "source": [
        "Выведите исполнителей, ближайших с центроидам (аналогично заданию 5). Как соотносятся результаты? Остался ли смысл кластеров прежним? Расскажите про смысл 1-2 интересных кластеров, если он изменился и кластеров слишком много, чтобы рассказать про все."
      ]
    },
    {
      "cell_type": "code",
      "execution_count": null,
      "id": "HMY-058kBqO0",
      "metadata": {
        "id": "HMY-058kBqO0"
      },
      "outputs": [],
      "source": [
        "# -- YOUR CODE HERE --"
      ]
    },
    {
      "cell_type": "markdown",
      "id": "LeWEK2QsJkiX",
      "metadata": {
        "id": "LeWEK2QsJkiX"
      },
      "source": [
        "**Ответ:** # -- YOUR ANSWER HERE --"
      ]
    },
    {
      "cell_type": "markdown",
      "id": "YluT0kiGPe4j",
      "metadata": {
        "id": "YluT0kiGPe4j"
      },
      "source": [
        "Сделайте t-SNE визуализацию полученной кластеризации."
      ]
    },
    {
      "cell_type": "code",
      "execution_count": null,
      "id": "00rY7Z6XPfPa",
      "metadata": {
        "id": "00rY7Z6XPfPa"
      },
      "outputs": [],
      "source": [
        "# -- YOUR CODE HERE --"
      ]
    },
    {
      "cell_type": "markdown",
      "id": "Eo8H1sNqQqiF",
      "metadata": {
        "id": "Eo8H1sNqQqiF"
      },
      "source": [
        "Если кластеров получилось слишком много и визуально цвета плохо отличаются, покрасьте только какой-нибудь интересный кластер из задания выше (`c = (labels == i)`). Хорошо ли этот кластер отражается в визуализации?"
      ]
    },
    {
      "cell_type": "code",
      "execution_count": null,
      "id": "E4oXA3qTQwWT",
      "metadata": {
        "id": "E4oXA3qTQwWT"
      },
      "outputs": [],
      "source": [
        "# -- YOUR CODE HERE --"
      ]
    },
    {
      "cell_type": "markdown",
      "id": "SHxur6z7Q0fu",
      "metadata": {
        "id": "SHxur6z7Q0fu"
      },
      "source": [
        "**Ответ:** # -- YOUR ANSWER HERE --"
      ]
    }
  ],
  "metadata": {
    "colab": {
      "provenance": []
    },
    "kernelspec": {
      "display_name": "Python 3",
      "language": "python",
      "name": "python3"
    },
    "language_info": {
      "codemirror_mode": {
        "name": "ipython",
        "version": 3
      },
      "file_extension": ".py",
      "mimetype": "text/x-python",
      "name": "python",
      "nbconvert_exporter": "python",
      "pygments_lexer": "ipython3",
      "version": "3.11.9"
    }
  },
  "nbformat": 4,
  "nbformat_minor": 5
}
